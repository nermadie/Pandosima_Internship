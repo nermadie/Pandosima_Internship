{
 "cells": [
  {
   "cell_type": "markdown",
   "metadata": {},
   "source": [
    "`yield` statement turns a function into a generator. It is used to produce a series of values. The generator is paused after each value is produced and resumed when the next value is requested.\n",
    "\n",
    "The execution of the code stops when a yield statement is reached. The value behind the yield will be returned. The execution of the generator is interrupted now. The state of the generator is saved. The generator is resumed when the next value is requested. The state of the generator is restored.\n",
    "\n",
    "The crucial advantage of generators consists in automatically creating the methods `__iter__()` and `next()`. Generators provide a very neat way of producing data which is huge or even infinite.\n"
   ]
  },
  {
   "cell_type": "code",
   "execution_count": 1,
   "metadata": {},
   "outputs": [],
   "source": [
    "def animal_generator():\n",
    "    yield 'Dog'\n",
    "    yield 'Cat'\n",
    "    yield 'Horse'"
   ]
  },
  {
   "cell_type": "code",
   "execution_count": 14,
   "metadata": {},
   "outputs": [],
   "source": [
    "animal = animal_generator()"
   ]
  },
  {
   "cell_type": "code",
   "execution_count": null,
   "metadata": {},
   "outputs": [
    {
     "name": "stdout",
     "output_type": "stream",
     "text": [
      "Horse\n"
     ]
    }
   ],
   "source": [
    "print(next(animal))"
   ]
  },
  {
   "cell_type": "markdown",
   "metadata": {},
   "source": [
    "Since Python 3.3, generators can also use return statements, but a generator still needs at least one yield statement to be a generator!\n",
    "\n",
    "A return statement inside of a generator is equivalent to raise StopIteration()\n"
   ]
  },
  {
   "cell_type": "code",
   "execution_count": 21,
   "metadata": {},
   "outputs": [],
   "source": [
    "def gen():\n",
    "    yield 1\n",
    "    raise StopIteration(42)\n",
    "    yield 2\n",
    "g = gen()"
   ]
  },
  {
   "cell_type": "code",
   "execution_count": 22,
   "metadata": {},
   "outputs": [
    {
     "name": "stdout",
     "output_type": "stream",
     "text": [
      "1\n"
     ]
    },
    {
     "ename": "RuntimeError",
     "evalue": "generator raised StopIteration",
     "output_type": "error",
     "traceback": [
      "\u001b[1;31m---------------------------------------------------------------------------\u001b[0m",
      "\u001b[1;31mStopIteration\u001b[0m                             Traceback (most recent call last)",
      "Cell \u001b[1;32mIn[21], line 3\u001b[0m, in \u001b[0;36mgen\u001b[1;34m()\u001b[0m\n\u001b[0;32m      2\u001b[0m \u001b[38;5;28;01myield\u001b[39;00m \u001b[38;5;241m1\u001b[39m\n\u001b[1;32m----> 3\u001b[0m \u001b[38;5;28;01mraise\u001b[39;00m \u001b[38;5;167;01mStopIteration\u001b[39;00m(\u001b[38;5;241m42\u001b[39m)\n\u001b[0;32m      4\u001b[0m \u001b[38;5;28;01myield\u001b[39;00m \u001b[38;5;241m2\u001b[39m\n",
      "\u001b[1;31mStopIteration\u001b[0m: 42",
      "\nThe above exception was the direct cause of the following exception:\n",
      "\u001b[1;31mRuntimeError\u001b[0m                              Traceback (most recent call last)",
      "Cell \u001b[1;32mIn[22], line 2\u001b[0m\n\u001b[0;32m      1\u001b[0m \u001b[38;5;28mprint\u001b[39m(\u001b[38;5;28mnext\u001b[39m(g))\n\u001b[1;32m----> 2\u001b[0m \u001b[38;5;28mprint\u001b[39m(\u001b[38;5;28;43mnext\u001b[39;49m\u001b[43m(\u001b[49m\u001b[43mg\u001b[49m\u001b[43m)\u001b[49m)\n",
      "\u001b[1;31mRuntimeError\u001b[0m: generator raised StopIteration"
     ]
    }
   ],
   "source": [
    "print(next(g))\n",
    "print(next(g))"
   ]
  },
  {
   "cell_type": "code",
   "execution_count": 23,
   "metadata": {},
   "outputs": [],
   "source": [
    "def gen2():\n",
    "    yield 1\n",
    "    return 42\n",
    "    yield 2\n",
    "g = gen2()"
   ]
  },
  {
   "cell_type": "code",
   "execution_count": 25,
   "metadata": {},
   "outputs": [
    {
     "name": "stdout",
     "output_type": "stream",
     "text": [
      "1\n"
     ]
    },
    {
     "ename": "StopIteration",
     "evalue": "42",
     "output_type": "error",
     "traceback": [
      "\u001b[1;31m---------------------------------------------------------------------------\u001b[0m",
      "\u001b[1;31mStopIteration\u001b[0m                             Traceback (most recent call last)",
      "Cell \u001b[1;32mIn[25], line 2\u001b[0m\n\u001b[0;32m      1\u001b[0m \u001b[38;5;28mprint\u001b[39m(\u001b[38;5;28mnext\u001b[39m(g))\n\u001b[1;32m----> 2\u001b[0m \u001b[38;5;28mprint\u001b[39m(\u001b[38;5;28;43mnext\u001b[39;49m\u001b[43m(\u001b[49m\u001b[43mg\u001b[49m\u001b[43m)\u001b[49m)\n",
      "\u001b[1;31mStopIteration\u001b[0m: 42"
     ]
    }
   ],
   "source": [
    "print(next(g))\n",
    "print(next(g))"
   ]
  },
  {
   "cell_type": "markdown",
   "metadata": {},
   "source": [
    "`generator.send()` is used to send a value to the generator. The value will be returned by the yield statement. The generator is paused after the value is produced and resumed when the next value is requested.\n"
   ]
  },
  {
   "cell_type": "code",
   "execution_count": null,
   "metadata": {},
   "outputs": [
    {
     "name": "stdout",
     "output_type": "stream",
     "text": [
      "Start\n",
      "Received: 10\n",
      "20\n",
      "Received: 20\n",
      "60\n"
     ]
    }
   ],
   "source": [
    "def simple_generator():\n",
    "    x = yield \"Start\" # Call next() to start the generator\n",
    "    print(f\"Received: {x}\")\n",
    "    y = yield x * 2 # Call send() to send a value to the generator and get 2nd yield value (x * 2)\n",
    "    print(f\"Received: {y}\")\n",
    "    yield y * 3 # Call send() to send a value to the generator and get 3rd yield value (y * 3)\n",
    "\n",
    "# Create a generator object\n",
    "gen = simple_generator()\n",
    "\n",
    "print(next(gen))\n",
    "print(gen.send(10)) # 10 * 2 = 20\n",
    "print(gen.send(20)) # 20 * 3 = 60\n"
   ]
  },
  {
   "cell_type": "markdown",
   "metadata": {},
   "source": [
    "- `send()` không thể được gọi ngay lập tức khi khởi động generator. Phải khởi động bằng `next()` hoặc `send(None)`.\n",
    "- Nếu gọi `send()` ngay từ đầu mà không sử dụng `send(None)`, sẽ gặp lỗi `TypeError`.\n"
   ]
  },
  {
   "cell_type": "code",
   "execution_count": 30,
   "metadata": {},
   "outputs": [
    {
     "ename": "TypeError",
     "evalue": "can't send non-None value to a just-started generator",
     "output_type": "error",
     "traceback": [
      "\u001b[1;31m---------------------------------------------------------------------------\u001b[0m",
      "\u001b[1;31mTypeError\u001b[0m                                 Traceback (most recent call last)",
      "Cell \u001b[1;32mIn[30], line 2\u001b[0m\n\u001b[0;32m      1\u001b[0m gen \u001b[38;5;241m=\u001b[39m simple_generator()\n\u001b[1;32m----> 2\u001b[0m \u001b[43mgen\u001b[49m\u001b[38;5;241;43m.\u001b[39;49m\u001b[43msend\u001b[49m\u001b[43m(\u001b[49m\u001b[38;5;241;43m10\u001b[39;49m\u001b[43m)\u001b[49m \u001b[38;5;66;03m# TypeError: can't send non-None value to a just-started generator\u001b[39;00m\n",
      "\u001b[1;31mTypeError\u001b[0m: can't send non-None value to a just-started generator"
     ]
    }
   ],
   "source": [
    "gen = simple_generator()\n",
    "gen.send(10) # TypeError: can't send non-None value to a just-started generator"
   ]
  },
  {
   "cell_type": "code",
   "execution_count": 31,
   "metadata": {},
   "outputs": [
    {
     "name": "stdout",
     "output_type": "stream",
     "text": [
      "Received: 10\n",
      "20\n",
      "Received: 20\n",
      "60\n"
     ]
    }
   ],
   "source": [
    "gen = simple_generator()\n",
    "gen.send(None)\n",
    "print(gen.send(10))\n",
    "print(gen.send(20))"
   ]
  },
  {
   "cell_type": "markdown",
   "metadata": {},
   "source": [
    "`throw()` to control the generator from the outside. It is used to raise an exception inside the generator. The exception will be raised at the yield statement. The generator is paused after the exception is raised and resumed when the next value is requested.\n"
   ]
  },
  {
   "cell_type": "code",
   "execution_count": 36,
   "metadata": {},
   "outputs": [
    {
     "name": "stdout",
     "output_type": "stream",
     "text": [
      "0\n",
      "1\n",
      "2\n",
      "3\n",
      "4\n",
      "5\n",
      "I want to get current state and reset the counter: (0, 5)\n",
      "0\n",
      "1\n",
      "2\n"
     ]
    }
   ],
   "source": [
    "# Reset the generator when we want\n",
    "def gen(init_val=0):\n",
    "    counter = init_val\n",
    "    while True:\n",
    "        try:\n",
    "            x = yield counter\n",
    "            if x is None:\n",
    "                counter += 1\n",
    "            else:\n",
    "                counter = x\n",
    "        except Exception:\n",
    "            yield (init_val, counter)\n",
    "            counter = init_val\n",
    "\n",
    "c = gen()\n",
    "for i in range(6):\n",
    "    print(next(c))\n",
    "print(\"I want to get current state and reset the counter:\", c.throw(Exception))\n",
    "for i in range(3):\n",
    "    print(next(c))\n"
   ]
  }
 ],
 "metadata": {
  "kernelspec": {
   "display_name": "venv",
   "language": "python",
   "name": "python3"
  },
  "language_info": {
   "codemirror_mode": {
    "name": "ipython",
    "version": 3
   },
   "file_extension": ".py",
   "mimetype": "text/x-python",
   "name": "python",
   "nbconvert_exporter": "python",
   "pygments_lexer": "ipython3",
   "version": "3.11.9"
  }
 },
 "nbformat": 4,
 "nbformat_minor": 2
}
